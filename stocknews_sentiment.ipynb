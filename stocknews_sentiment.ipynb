{
  "nbformat": 4,
  "nbformat_minor": 0,
  "metadata": {
    "colab": {
      "name": "stocknews-sentiment.ipynb",
      "provenance": []
    },
    "kernelspec": {
      "name": "python3",
      "display_name": "Python 3"
    }
  },
  "cells": [
    {
      "cell_type": "markdown",
      "metadata": {
        "id": "zd98ZhPBkyw-",
        "colab_type": "text"
      },
      "source": [
        "# Selenium"
      ]
    },
    {
      "cell_type": "code",
      "metadata": {
        "id": "ECuWVIXUuzoo",
        "colab_type": "code",
        "colab": {}
      },
      "source": [
        "!pip install selenium\n",
        "!apt-get update # to update ubuntu to correctly run apt install\n",
        "!apt install chromium-chromedriver\n",
        "!cp /usr/lib/chromium-browser/chromedriver /usr/bin\n",
        "import sys\n",
        "sys.path.insert(0,'/usr/lib/chromium-browser/chromedriver')\n",
        "from selenium import webdriver"
      ],
      "execution_count": null,
      "outputs": []
    },
    {
      "cell_type": "markdown",
      "metadata": {
        "id": "ZG4S4fPelYhx",
        "colab_type": "text"
      },
      "source": [
        "These settings allow us to use Selenium in notebooks"
      ]
    },
    {
      "cell_type": "code",
      "metadata": {
        "id": "u0M_qknolP-I",
        "colab_type": "code",
        "colab": {}
      },
      "source": [
        "chrome_options = webdriver.ChromeOptions()\n",
        "chrome_options.add_argument('--headless')\n",
        "chrome_options.add_argument('--no-sandbox')\n",
        "chrome_options.add_argument('--disable-dev-shm-usage')\n",
        "driver = webdriver.Chrome('chromedriver',chrome_options=chrome_options)"
      ],
      "execution_count": null,
      "outputs": []
    },
    {
      "cell_type": "markdown",
      "metadata": {
        "id": "ibEcrFrZlgiQ",
        "colab_type": "text"
      },
      "source": [
        "# nltk"
      ]
    },
    {
      "cell_type": "code",
      "metadata": {
        "id": "6AS8D9O9j56s",
        "colab_type": "code",
        "colab": {}
      },
      "source": [
        "import nltk\n",
        "nltk.download('vader_lexicon')\n",
        "from nltk.sentiment.vader import SentimentIntensityAnalyzer\n",
        "vader = SentimentIntensityAnalyzer()"
      ],
      "execution_count": null,
      "outputs": []
    },
    {
      "cell_type": "markdown",
      "metadata": {
        "id": "fZvU-PDUl0R6",
        "colab_type": "text"
      },
      "source": [
        "#pandas and matplotlib"
      ]
    },
    {
      "cell_type": "code",
      "metadata": {
        "id": "omB-aykml2mI",
        "colab_type": "code",
        "colab": {}
      },
      "source": [
        "import pandas as pd\n",
        "import matplotlib as mpl\n",
        "import matplotlib.pyplot as plt\n",
        "#%matplotlib inline"
      ],
      "execution_count": 4,
      "outputs": []
    },
    {
      "cell_type": "markdown",
      "metadata": {
        "id": "MzKlDS1dmAAx",
        "colab_type": "text"
      },
      "source": [
        "# Scraping data"
      ]
    },
    {
      "cell_type": "markdown",
      "metadata": {
        "id": "iD9y8OekmC7M",
        "colab_type": "text"
      },
      "source": [
        "Titles for articles regarding Amazon are being scraped "
      ]
    },
    {
      "cell_type": "code",
      "metadata": {
        "id": "gzy6YoVRwaio",
        "colab_type": "code",
        "colab": {}
      },
      "source": [
        "driver.get(\"https://finviz.com/quote.ashx?t=INTC\")"
      ],
      "execution_count": 5,
      "outputs": []
    },
    {
      "cell_type": "code",
      "metadata": {
        "id": "eVU_Aujix99X",
        "colab_type": "code",
        "colab": {}
      },
      "source": [
        "article_list = []\n",
        "date_list = []\n",
        "time_list =[]\n",
        "ticker = 'INTC'\n",
        "ticker_list =[]"
      ],
      "execution_count": 6,
      "outputs": []
    },
    {
      "cell_type": "markdown",
      "metadata": {
        "id": "r24u6ixxmPiG",
        "colab_type": "text"
      },
      "source": [
        "Scraping title, date and time"
      ]
    },
    {
      "cell_type": "code",
      "metadata": {
        "id": "4LNRF-Wf9b0A",
        "colab_type": "code",
        "colab": {}
      },
      "source": [
        "for i in range(1, 101): \n",
        "  ticker_list.append('INTC')\n",
        "  article_path = f\"\"\"//*[@id=\"news-table\"]/tbody/tr[{i}]/td[2]/div/div[1]/a\"\"\"\n",
        "  article = driver.find_element_by_xpath(article_path)\n",
        "  article_list.append(article.text)\n",
        "\n",
        "  date_path = f\"\"\"//*[@id=\"news-table\"]/tbody/tr[{i}]/td[1]\"\"\"\n",
        "  date_data = driver.find_element_by_xpath(date_path)\n",
        "  td_data = date_data.text.split()\n",
        "\n",
        "  if len(td_data) == 1:\n",
        "    time = td_data[0]\n",
        "    time_list.append(time)\n",
        "    date_list.append('')\n",
        "  else:\n",
        "    time = td_data[1]\n",
        "    date = td_data[0]\n",
        "    date_list.append(date)\n",
        "    time_list.append(time)\n"
      ],
      "execution_count": 7,
      "outputs": []
    },
    {
      "cell_type": "markdown",
      "metadata": {
        "id": "lFL0FrQYq33O",
        "colab_type": "text"
      },
      "source": [
        "# Working with pandas & plotting"
      ]
    },
    {
      "cell_type": "code",
      "metadata": {
        "id": "-zAa7Q8gBoI3",
        "colab_type": "code",
        "colab": {}
      },
      "source": [
        "allinfo = list(zip(ticker_list, date_list, time_list, article_list))\n",
        "df = pd.DataFrame(allinfo, columns = [\"Ticker\", \"Date\",\"Time\", \"Article\"])"
      ],
      "execution_count": 8,
      "outputs": []
    },
    {
      "cell_type": "code",
      "metadata": {
        "id": "wiAeKFR5mm60",
        "colab_type": "code",
        "colab": {}
      },
      "source": [
        "f = lambda title: vader.polarity_scores(title)[\"compound\"]\n",
        "df[\"compound\"] = df[\"Article\"].apply(f)\n",
        "df[\"Date\"] = pd.to_datetime(df.Date).dt.date"
      ],
      "execution_count": 9,
      "outputs": []
    },
    {
      "cell_type": "code",
      "metadata": {
        "id": "eaZuEJMnq0LT",
        "colab_type": "code",
        "colab": {
          "base_uri": "https://localhost:8080/",
          "height": 514
        },
        "outputId": "10cd390a-ca3a-472f-88b1-8369784d7357"
      },
      "source": [
        "mean_df =df.groupby([\"Ticker\",\"Date\"]).mean()\n",
        "mean_df = mean_df.unstack()\n",
        "mean_df = mean_df.xs(\"compound\", axis = \"columns\").transpose()\n",
        "mean_df.plot(kind='bar')\n",
        "plt.figure(figsize=(10,8))\n",
        "plt.show();\n",
        "print(mean_df)"
      ],
      "execution_count": 10,
      "outputs": [
        {
          "output_type": "display_data",
          "data": {
            "image/png": "[encoded data removed]",
            "text/plain": [
              "<Figure size 432x288 with 1 Axes>"
            ]
          },
          "metadata": {
            "tags": [],
            "needs_background": "light"
          }
        },
        {
          "output_type": "display_data",
          "data": {
            "text/plain": [
              "<Figure size 720x576 with 0 Axes>"
            ]
          },
          "metadata": {
            "tags": []
          }
        },
        {
          "output_type": "stream",
          "text": [
            "Ticker        INTC\n",
            "Date              \n",
            "2020-07-24 -0.1779\n",
            "2020-07-25  0.4824\n",
            "2020-07-26  0.0000\n",
            "2020-07-27  0.3400\n",
            "2020-07-28 -0.5423\n",
            "2020-07-29  0.0000\n",
            "2020-07-30  0.0000\n",
            "2020-07-31  0.2023\n"
          ],
          "name": "stdout"
        }
      ]
    }
  ]
}